{
 "cells": [
  {
   "cell_type": "code",
   "execution_count": 4,
   "metadata": {},
   "outputs": [],
   "source": [
    "from flask import Flask,request\n",
    "from flask_restful import Api,Resource\n",
    "\n",
    "import json\n",
    "import numpy as np\n",
    "\n",
    "app = Flask(__name__)\n",
    "api = Api(app)\n",
    "\n",
    "class Demo(Resource):\n",
    "    \n",
    "    def __init__(self):\n",
    "        pass;\n",
    "    \n",
    "    def get(self):\n",
    "        return \"this is a get_method!\";\n",
    "    \n",
    "    \n",
    "    def post(self):\n",
    "        data_json = request.json;\n",
    "        data_dict = json.loads(data_json);\n",
    "        \n",
    "        signal = data_dict[\"signal\"];\n",
    "        \n",
    "        ret = {};\n",
    "        ret[\"return_signal\"] = signal;\n",
    "        \n",
    "        return ret;\n",
    "\n",
    "api.add_resource(Demo,\"/\");\n",
    "\n",
    "if __name__==\"__main__\":\n",
    "    app.run();"
   ]
  }
 ],
 "metadata": {
  "kernelspec": {
   "display_name": "Python 3",
   "language": "python",
   "name": "python3"
  },
  "language_info": {
   "codemirror_mode": {
    "name": "ipython",
    "version": 3
   },
   "file_extension": ".py",
   "mimetype": "text/x-python",
   "name": "python",
   "nbconvert_exporter": "python",
   "pygments_lexer": "ipython3",
   "version": "3.7.1"
  }
 },
 "nbformat": 4,
 "nbformat_minor": 2
}
